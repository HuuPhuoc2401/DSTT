{
  "nbformat": 4,
  "nbformat_minor": 0,
  "metadata": {
    "colab": {
      "provenance": []
    },
    "kernelspec": {
      "name": "python3",
      "display_name": "Python 3"
    },
    "language_info": {
      "name": "python"
    }
  },
  "cells": [
    {
      "cell_type": "code",
      "execution_count": 3,
      "metadata": {
        "colab": {
          "base_uri": "https://localhost:8080/"
        },
        "id": "OSmi6X9JZfqA",
        "outputId": "97b984b4-b00e-4e3c-c931-40d04b30b9cc"
      },
      "outputs": [
        {
          "output_type": "stream",
          "name": "stdout",
          "text": [
            "[[1 2]\n",
            " [3 4]]\n"
          ]
        }
      ],
      "source": [
        "#Bài 1.1\n",
        "import numpy as np\n",
        "\n",
        "D = np.array([[1,2],[3,4]])\n",
        "E =np.empty_like(D)\n",
        "np.copyto(E,D)\n",
        "E = np.array([[1,2],[3,5]])\n",
        "np.copyto(E,D)\n",
        "print(E)"
      ]
    },
    {
      "cell_type": "code",
      "source": [
        "#Bài 1.2\n",
        "# Nên sử dụng kiểu numpy.matrix\n",
        "x = np.array([['a','b'],['c','d']])\n",
        "y = 'x'\n",
        "# C = np.matrix([[x,y],[1,2]])\n",
        "# print(C)\n",
        "# Không nên/thể sử dụng kiểu numpy.matrix\n",
        "# A = np.matrix([[[1,2],[3,4]],[[5,6],[7,8]]])\n",
        "\n",
        "A = np.array([[[1,2],[3,4]],[[5,6],[7,8]]])\n",
        "print(A)"
      ],
      "metadata": {
        "colab": {
          "base_uri": "https://localhost:8080/"
        },
        "id": "mcsDHSNfbSVs",
        "outputId": "bf59b4a2-2d22-4e21-c3fd-859e31c38813"
      },
      "execution_count": 7,
      "outputs": [
        {
          "output_type": "stream",
          "name": "stdout",
          "text": [
            "[[[1 2]\n",
            "  [3 4]]\n",
            "\n",
            " [[5 6]\n",
            "  [7 8]]]\n"
          ]
        }
      ]
    },
    {
      "cell_type": "code",
      "source": [
        "#Bài 1.3\n",
        "from numpy import matlib\n",
        "G = matlib.identity(5)\n",
        "print(G)\n",
        "\n",
        "H = matlib.randn(3,2)\n",
        "print(H)\n",
        "\n",
        "K = matlib.zeros([4,4])\n",
        "print(K)"
      ],
      "metadata": {
        "colab": {
          "base_uri": "https://localhost:8080/"
        },
        "id": "kEk-Yy25d-Og",
        "outputId": "f8bd1477-958c-43b8-e4ed-4ad789a2a52f"
      },
      "execution_count": 8,
      "outputs": [
        {
          "output_type": "stream",
          "name": "stdout",
          "text": [
            "[[1. 0. 0. 0. 0.]\n",
            " [0. 1. 0. 0. 0.]\n",
            " [0. 0. 1. 0. 0.]\n",
            " [0. 0. 0. 1. 0.]\n",
            " [0. 0. 0. 0. 1.]]\n",
            "[[ 0.81053492  0.37127954]\n",
            " [-0.70504223 -0.80814292]\n",
            " [-1.38200257 -0.78599611]]\n",
            "[[0. 0. 0. 0.]\n",
            " [0. 0. 0. 0.]\n",
            " [0. 0. 0. 0.]\n",
            " [0. 0. 0. 0.]]\n"
          ]
        }
      ]
    },
    {
      "cell_type": "code",
      "source": [
        "#Bài 2.2\n",
        "import numpy as np\n",
        "c = [3, 7, 15, 1, 292, 1, 1, 1, 2, 1, 3, 1, 14, 2]\n",
        "M = np.matrix([[1,2],[3,4]])\n",
        "for i in range(len(c)):\n",
        "  ci = np.matrix([[1,1],[1,0]])\n",
        "  ci[0, 0] = c[i]\n",
        "  if(i==0):\n",
        "    M = ci\n",
        "  else:\n",
        "    M = M.dot(ci)\n",
        "print(M)\n",
        "print(M[0,0]/M[1,0])"
      ],
      "metadata": {
        "colab": {
          "base_uri": "https://localhost:8080/"
        },
        "id": "t61ZsgdCe71Y",
        "outputId": "2eeca69d-5463-447a-e8e0-a6de42e91953"
      },
      "execution_count": 16,
      "outputs": [
        {
          "output_type": "stream",
          "name": "stdout",
          "text": [
            "[[165707065  80143857]\n",
            " [ 52746197  25510582]]\n",
            "3.1415926535897936\n"
          ]
        }
      ]
    },
    {
      "cell_type": "code",
      "source": [
        "#Bài 3.2\n",
        "import numpy as np\n",
        "X = np.array([[1,1],[1,2],[1,3],[1,4],[1,5]])\n",
        "Y = np.array([[1],[2],[4],[4],[6]])\n",
        "XT = X.transpose()\n",
        "A1 = XT.dot(X)\n",
        "A2 = XT.dot(Y)\n",
        "A = A1.dot(A2)\n",
        "print(A)"
      ],
      "metadata": {
        "colab": {
          "base_uri": "https://localhost:8080/"
        },
        "id": "_RUBfeKlgtYc",
        "outputId": "343b6f53-0359-4973-9a68-9d82bbf83b99"
      },
      "execution_count": 17,
      "outputs": [
        {
          "output_type": "stream",
          "name": "stdout",
          "text": [
            "[[1030]\n",
            " [3720]]\n"
          ]
        }
      ]
    },
    {
      "cell_type": "code",
      "source": [
        "#Bài tập chương 5\n",
        "#Câu 1\n",
        "import numpy as np\n",
        "def bpcuctieu(a):\n",
        "  b = []\n",
        "  o1 = []\n",
        "  for i in range(len(a)):\n",
        "    o1.append(1.0)\n",
        "    b.append((i+1)*1.0)\n",
        "  x = np.array([o1,b])\n",
        "  u = np.dot(x,x.T)\n",
        "#Bài tập chương 5\n",
        "#Câu 1\n",
        "import numpy as np\n",
        "def bpcuctieu(a):\n",
        "  b = []\n",
        "  o1 = []\n",
        "  for i in range(len(a)):\n",
        "    o1.append(1.0)\n",
        "    b.append((i+1)*1.0)\n",
        "  x = np.array([o1,b])\n",
        "  u = np.dot(x,x.T)\n",
        "  y = np.array(a)\n",
        "  from numpy import linalg\n",
        "  u_1 = np.linalg.inv(u)\n",
        "  v = np.dot(u_1,x)\n",
        "  A = np.dot(v, y)\n",
        "  return A\n",
        "du_lieu = [10.0, 8, 7, 5, 2]\n",
        "bpcuctieu(du_lieu)"
      ],
      "metadata": {
        "colab": {
          "base_uri": "https://localhost:8080/"
        },
        "id": "927GTex0jdyR",
        "outputId": "ff8d9200-a0c9-4cc1-d5b5-d8808f882d71"
      },
      "execution_count": 32,
      "outputs": [
        {
          "output_type": "execute_result",
          "data": {
            "text/plain": [
              "array([12.1, -1.9])"
            ]
          },
          "metadata": {},
          "execution_count": 32
        }
      ]
    }
  ]
}