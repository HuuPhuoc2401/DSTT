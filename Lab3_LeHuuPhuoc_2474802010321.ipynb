{
  "nbformat": 4,
  "nbformat_minor": 0,
  "metadata": {
    "colab": {
      "provenance": []
    },
    "kernelspec": {
      "name": "python3",
      "display_name": "Python 3"
    },
    "language_info": {
      "name": "python"
    }
  },
  "cells": [
    {
      "cell_type": "code",
      "execution_count": 3,
      "metadata": {
        "colab": {
          "base_uri": "https://localhost:8080/"
        },
        "id": "vEaK9J4e3-1D",
        "outputId": "8339628a-129f-44e6-ebf8-bdeb770b89bd"
      },
      "outputs": [
        {
          "output_type": "execute_result",
          "data": {
            "text/plain": [
              "array([[-0.46675813,  0.48309074],\n",
              "       [ 1.47947665, -2.89544169]])"
            ]
          },
          "metadata": {},
          "execution_count": 3
        }
      ],
      "source": [
        "#Bài 1.1\n",
        "from scipy import linalg\n",
        "import numpy as np\n",
        "a = np.array([1, 2, 3])\n",
        "b = np.array([(1+9j, 2j, 3j), (4j, 5j, 6j)])\n",
        "c = np.array([[ (0.5, 1.5, 10), (3,2,1) ] , [(6,5,4), (7,8,9)]])\n",
        "A = np.asmatrix(np.random.random( (2,2) ) )\n",
        "B = np.asmatrix(b)\n",
        "C = np.asmatrix(np.random.random( (10,5) ) )\n",
        "D = np.asmatrix([ [4, 3], [2, 6] ])\n",
        "F = np.eye(3, k=1)\n",
        "F = np.eye(3, k=0)\n",
        "F = np.eye(3, k=-1)\n",
        "np.linalg.matrix_rank(C)\n",
        "A.I\n",
        "linalg.inv(A)\n",
        "linalg.det(A)\n",
        "A.T\n",
        "A.H\n",
        "linalg.solve(A, b)\n",
        "E = np.asmatrix(a).T\n",
        "linalg.lstsq(F, E)\n",
        "np.add(A, D)\n",
        "np.subtract(A, D)\n",
        "np.divide(A, D)\n",
        "A @ D\n",
        "np.multiply(D, A)\n",
        "np.dot(A, D)\n",
        "np.vdot(A, D)\n",
        "linalg.expm(A)\n",
        "linalg.logm(A)"
      ]
    },
    {
      "cell_type": "code",
      "source": [
        "#Bài 2.3\n",
        "import numpy as np\n",
        "A = np.array([ [0,1], [1,0]])\n",
        "print(A)\n",
        "temp = A.dot(A)\n",
        "print(temp)\n",
        "k= 6\n",
        "for i in range(k-1):\n",
        "  temp = temp.dot(A)\n",
        "  print(temp)\n",
        "  print('---')\n",
        "B = np.array([ [0,-1], [-1,0]])\n",
        "print(B)\n",
        "temp = B.dot(B)\n",
        "print(temp)\n",
        "k= 5\n",
        "for i in range(k-1):\n",
        " temp = temp.dot(B)\n",
        " print (temp)\n",
        " print('---')\n",
        "C = np.array([ [1, 0, 0], [0, 0.5, 1], [0, 0, 0.5] ])\n",
        "print(C)\n",
        "temp = C.dot(C)\n",
        "print(temp)\n",
        "k= 1000\n",
        "for i in range(k-1):\n",
        " temp = temp.dot(C)\n",
        "print(temp)\n",
        "k= 1000\n",
        "for i in range(k-1):\n",
        " temp = temp.dot(C)\n",
        "print(temp)"
      ],
      "metadata": {
        "colab": {
          "base_uri": "https://localhost:8080/"
        },
        "id": "D_M0b-PP4-eQ",
        "outputId": "0132d85f-fb45-48d9-aca5-f5734e42388a"
      },
      "execution_count": 4,
      "outputs": [
        {
          "output_type": "stream",
          "name": "stdout",
          "text": [
            "[[0 1]\n",
            " [1 0]]\n",
            "[[1 0]\n",
            " [0 1]]\n",
            "[[0 1]\n",
            " [1 0]]\n",
            "---\n",
            "[[1 0]\n",
            " [0 1]]\n",
            "---\n",
            "[[0 1]\n",
            " [1 0]]\n",
            "---\n",
            "[[1 0]\n",
            " [0 1]]\n",
            "---\n",
            "[[0 1]\n",
            " [1 0]]\n",
            "---\n",
            "[[ 0 -1]\n",
            " [-1  0]]\n",
            "[[1 0]\n",
            " [0 1]]\n",
            "[[ 0 -1]\n",
            " [-1  0]]\n",
            "---\n",
            "[[1 0]\n",
            " [0 1]]\n",
            "---\n",
            "[[ 0 -1]\n",
            " [-1  0]]\n",
            "---\n",
            "[[1 0]\n",
            " [0 1]]\n",
            "---\n",
            "[[1.  0.  0. ]\n",
            " [0.  0.5 1. ]\n",
            " [0.  0.  0.5]]\n",
            "[[1.   0.   0.  ]\n",
            " [0.   0.25 1.  ]\n",
            " [0.   0.   0.25]]\n",
            "[[1.00000000e+000 0.00000000e+000 0.00000000e+000]\n",
            " [0.00000000e+000 4.66631809e-302 9.34196882e-299]\n",
            " [0.00000000e+000 0.00000000e+000 4.66631809e-302]]\n",
            "[[1. 0. 0.]\n",
            " [0. 0. 0.]\n",
            " [0. 0. 0.]]\n"
          ]
        }
      ]
    },
    {
      "cell_type": "code",
      "source": [
        "#Bài 2.4\n",
        "M = np.array([ [0.8, 0.3], [0.2, 0.7]])\n",
        "MM = M.dot(M)\n",
        "print (MM)\n",
        "MM = M.dot(M)\n",
        "print (MM)\n",
        "for i in range(100):\n",
        "  MM = MM.dot(M)\n",
        "print (MM)"
      ],
      "metadata": {
        "colab": {
          "base_uri": "https://localhost:8080/"
        },
        "id": "EtehAu_y6N2w",
        "outputId": "527d3d31-6a77-48c3-e387-1b43fd483879"
      },
      "execution_count": 5,
      "outputs": [
        {
          "output_type": "stream",
          "name": "stdout",
          "text": [
            "[[0.7  0.45]\n",
            " [0.3  0.55]]\n",
            "[[0.7  0.45]\n",
            " [0.3  0.55]]\n",
            "[[0.6 0.6]\n",
            " [0.4 0.4]]\n"
          ]
        }
      ]
    },
    {
      "cell_type": "code",
      "source": [
        "#Bài 3.2\n",
        "M = np.array([ [0.8, 0.3], [0.2, 0.7]])\n",
        "P, L, U = linalg.lu(M)\n",
        "print(P)\n",
        "print(L)\n",
        "print(U)\n",
        "L.dot(U)"
      ],
      "metadata": {
        "colab": {
          "base_uri": "https://localhost:8080/"
        },
        "id": "8v_e_bxh6sPQ",
        "outputId": "a504ac24-bca2-4403-fe8e-140a42eba0c0"
      },
      "execution_count": 6,
      "outputs": [
        {
          "output_type": "stream",
          "name": "stdout",
          "text": [
            "[[1. 0.]\n",
            " [0. 1.]]\n",
            "[[1.   0.  ]\n",
            " [0.25 1.  ]]\n",
            "[[0.8   0.3  ]\n",
            " [0.    0.625]]\n"
          ]
        },
        {
          "output_type": "execute_result",
          "data": {
            "text/plain": [
              "array([[0.8, 0.3],\n",
              "       [0.2, 0.7]])"
            ]
          },
          "metadata": {},
          "execution_count": 6
        }
      ]
    },
    {
      "cell_type": "code",
      "source": [
        "#Bài 5\n",
        "A = np.array([ [0,1,0,1],[0,0,1,0],[1,0,0,1],[1,1,0,0]])\n",
        "temp = A.dot(A)\n",
        "print(temp)\n",
        "temp = temp.dot(A)\n",
        "print(temp)\n",
        "A = np.array([ [0,1,0,1],[0,0,1,0],[1,0,0,1],[1,1,0,0]])\n",
        "sumA = A\n",
        "temp = A.dot(A)\n",
        "k = 3\n",
        "sumA = sumA + temp\n",
        "for i in range(1, k-1):\n",
        " temp = temp.dot(A)\n",
        " sumA = sumA + temp\n",
        "print (temp)\n",
        "print (sumA)"
      ],
      "metadata": {
        "colab": {
          "base_uri": "https://localhost:8080/"
        },
        "id": "8bVbUjtI6491",
        "outputId": "9a964031-a424-4993-db64-cecdaaadc771"
      },
      "execution_count": 7,
      "outputs": [
        {
          "output_type": "stream",
          "name": "stdout",
          "text": [
            "[[1 1 1 0]\n",
            " [1 0 0 1]\n",
            " [1 2 0 1]\n",
            " [0 1 1 1]]\n",
            "[[1 1 1 2]\n",
            " [1 2 0 1]\n",
            " [1 2 2 1]\n",
            " [2 1 1 1]]\n",
            "[[1 1 1 2]\n",
            " [1 2 0 1]\n",
            " [1 2 2 1]\n",
            " [2 1 1 1]]\n",
            "[[2 3 2 3]\n",
            " [2 2 1 2]\n",
            " [3 4 2 3]\n",
            " [3 3 2 2]]\n"
          ]
        }
      ]
    }
  ]
}