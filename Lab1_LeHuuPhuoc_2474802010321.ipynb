{
  "nbformat": 4,
  "nbformat_minor": 0,
  "metadata": {
    "colab": {
      "provenance": []
    },
    "kernelspec": {
      "name": "python3",
      "display_name": "Python 3"
    },
    "language_info": {
      "name": "python"
    }
  },
  "cells": [
    {
      "cell_type": "code",
      "execution_count": null,
      "metadata": {
        "id": "dMooSrX34ieO",
        "colab": {
          "base_uri": "https://localhost:8080/"
        },
        "outputId": "d46c437b-a7ef-481d-c3da-7351d998cbce"
      },
      "outputs": [
        {
          "output_type": "execute_result",
          "data": {
            "text/plain": [
              "[(0, 7, 10), (1, 8, 9), (2, 9, 8), (3, 10, 7)]"
            ]
          },
          "metadata": {},
          "execution_count": 4
        }
      ],
      "source": [
        "#Bài 1.2.1\n",
        "danhsach1 = [1.,3.]\n",
        "danhsach2 = [5.,7.]\n",
        "danhsach = danhsach1 + danhsach2\n",
        "\n",
        "danhsach_gapdoi = 2 * danhsach\n",
        "\n",
        "danhsach * 2\n",
        "\n",
        "\n",
        "mon_hoc = [\"ToanCC\",\"DSTT\",\"ToanRR\",\"LaptrinhCB\"]\n",
        "thu_tu = [2,3,4,1]\n",
        "diem_so = [10,9,8,7]\n",
        "anh_xa = zip(thu_tu,mon_hoc,diem_so)\n",
        "\n",
        "anh_xa_list = list(anh_xa)\n",
        "\n",
        "tap_hop = set(anh_xa_list)\n",
        "tap_hop\n",
        "\n",
        "lay_TT, lay_monhoc, lay_diem = zip(*anh_xa_list)\n",
        "lay_monhoc\n",
        "\n",
        "import itertools\n",
        "tap_sinh = list(itertools.chain(range(4), range(5,10), range(15,20) ))\n",
        "tap_sinh\n",
        "\n",
        "list(zip(range(4), range(7,12), reversed(range(11))))"
      ]
    },
    {
      "cell_type": "code",
      "metadata": {
        "colab": {
          "base_uri": "https://localhost:8080/"
        },
        "id": "81ed3ce9",
        "outputId": "e8bca397-a384-4fc5-d716-ac1870a36947"
      },
      "source": [
        "#Bài 1.2.2\n",
        "def tao_danhsach():\n",
        "  danhsach = [100, 200, 300]\n",
        "  return danhsach\n",
        "\n",
        "mylist = tao_danhsach()\n",
        "\n",
        "a, b, c = mylist\n",
        "print(a, b, c)\n",
        "\n",
        "a = b = c = 0\n",
        "mylist = []"
      ],
      "execution_count": null,
      "outputs": [
        {
          "output_type": "stream",
          "name": "stdout",
          "text": [
            "100 200 300\n"
          ]
        }
      ]
    },
    {
      "cell_type": "code",
      "source": [
        "#Bài 2.1\n",
        "from sympy import Symbol, symbols, expand\n",
        "x = Symbol('x')\n",
        "f = x + x + x + 2\n",
        "print(\"Biểu thức f =\", f)\n",
        "a = Symbol('Noi')\n",
        "b = Symbol('Chim')\n",
        "expr1 = 3 * b + 7 * a\n",
        "print(\"Biểu thức expr1 =\", expr1)\n",
        "print(\"Tên của a là:\", a.name)\n",
        "print(\"Tên của b là:\", b.name)\n",
        "a, b, c = symbols('a b c')\n",
        "expr2 = 2 * a + 3 * b - c\n",
        "print(\"Biểu thức expr2 =\", expr2)\n",
        "x = Symbol('x')\n",
        "y = Symbol('y')\n",
        "s = x*y + y*x\n",
        "print(\"Biểu thức s =\", s)\n",
        "p = x * (x + 2 * x)\n",
        "print(\"Biểu thức p =\", p)\n",
        "p2 = (x + 2)*(y + 3) + (x + 2)*(x - 3)\n",
        "print(\"Biểu thức p2 chưa expand:\", p2)\n",
        "expanded_p2 = expand(p2)\n",
        "print(\"Biểu thức p2 sau khi expand:\", expanded_p2)\n",
        "p3 = x * (-x + 2 * x - x)\n",
        "print(\"Biểu thức p3=\", p3)"
      ],
      "metadata": {
        "colab": {
          "base_uri": "https://localhost:8080/"
        },
        "id": "6DWQKOwRgUwY",
        "outputId": "44827680-8391-4c2a-bc6c-5580ce6722c9"
      },
      "execution_count": null,
      "outputs": [
        {
          "output_type": "stream",
          "name": "stdout",
          "text": [
            "Biểu thức f = 3*x + 2\n",
            "Biểu thức expr1 = 3*Chim + 7*Noi\n",
            "Tên của a là: Noi\n",
            "Tên của b là: Chim\n",
            "Biểu thức expr2 = 2*a + 3*b - c\n",
            "Biểu thức s = 2*x*y\n",
            "Biểu thức p = 3*x**2\n",
            "Biểu thức p2 chưa expand: (x - 3)*(x + 2) + (x + 2)*(y + 3)\n",
            "Biểu thức p2 sau khi expand: x**2 + x*y + 2*x + 2*y\n",
            "Biểu thức p3= 0\n"
          ]
        }
      ]
    },
    {
      "cell_type": "code",
      "source": [
        "#Bài 2.2.1\n",
        "from sympy import factor\n",
        "bieuthuc = x**3 - y**3\n",
        "factor(bieuthuc)\n",
        "\n",
        "from sympy import expand\n",
        "bieuthuc = (x - y)*(x**2 + x*y + x**2)\n",
        "expand(bieuthuc)"
      ],
      "metadata": {
        "colab": {
          "base_uri": "https://localhost:8080/",
          "height": 38
        },
        "id": "nvQQctXboAR3",
        "outputId": "4c7631bf-8913-4694-a3e5-6f9a42d093b1"
      },
      "execution_count": null,
      "outputs": [
        {
          "output_type": "execute_result",
          "data": {
            "text/plain": [
              "2*x**3 - x**2*y - x*y**2"
            ],
            "text/latex": "$\\displaystyle 2 x^{3} - x^{2} y - x y^{2}$"
          },
          "metadata": {},
          "execution_count": 5
        }
      ]
    },
    {
      "cell_type": "code",
      "source": [
        "#Bài 2.2.3\n",
        "from sympy import Symbol\n",
        "from sympy import sin,cos\n",
        "from sympy import simplify\n",
        "x = Symbol('x')\n",
        "y = Symbol('y')\n",
        "bt = sin(x)*cos(y) + cos(x)*sin(y)\n",
        "bt_moi = simplify(bt)\n",
        "bt_moi\n",
        "\n",
        "bieuthuc = x*x - x*y + y*y\n",
        "bieuthuc\n",
        "x**2 - x*y + y**2\n",
        "bieuthuc_moi = bieuthuc.subs({x:1-y})\n",
        "bieuthuc_moi\n",
        "\n",
        "dongian = simplify(bieuthuc_moi)\n",
        "dongian\n",
        "\n",
        "giatri = bieuthuc.subs({x:3,y:2})\n",
        "giatri\n",
        "x\n",
        "y\n",
        "\n",
        "#Tình huống 1: x = 3, y = x\n",
        "giatri = bieuthuc.subs({x:3, y:x})\n",
        "giatri\n",
        "#Tình huống 2: x = y, y = 3\n",
        "giatri = bieuthuc.subs({x:y, y:3})\n",
        "giatri\n",
        "#Tình huống 3: y = x, x = 3\n",
        "giatri = bieuthuc.subs({y:x}).subs({x:3})\n",
        "giatri"
      ],
      "metadata": {
        "colab": {
          "base_uri": "https://localhost:8080/",
          "height": 37
        },
        "id": "lXBb3DZrtLYU",
        "outputId": "9007cf7b-99dd-4793-dd17-b9f0ca62f27d"
      },
      "execution_count": null,
      "outputs": [
        {
          "output_type": "execute_result",
          "data": {
            "text/plain": [
              "9"
            ],
            "text/latex": "$\\displaystyle 9$"
          },
          "metadata": {},
          "execution_count": 13
        }
      ]
    },
    {
      "cell_type": "code",
      "metadata": {
        "colab": {
          "base_uri": "https://localhost:8080/"
        },
        "id": "36354fe9",
        "outputId": "b48913cd-ac88-4a49-b5f9-540176aa99f5"
      },
      "source": [
        "#Bài 3.1\n",
        "import numpy as np\n",
        "from numpy import *\n",
        "\n",
        "vec1 = np.array([1., 3., 5.])\n",
        "print(\"vec1:\", vec1)\n",
        "print(\"vec1 * 2:\", vec1 * 2)\n",
        "print(\"vec1 * vec1:\", vec1 * vec1)\n",
        "print(\"vec1 / 2:\", vec1 / 2)\n",
        "print(\"vec1 + vec1:\", vec1 + vec1)\n",
        "\n",
        "vec2 = np.array([2., 4., 6.])\n",
        "print(\"vec2:\", vec2)\n",
        "print(\"vec1 + vec2:\", vec1 + vec2)\n",
        "\n",
        "vec3 = np.array([2., 4., 6.])\n",
        "print(\"vec3:\", vec3)\n",
        "print(\"vec1 + vec3:\", vec1 + vec3)\n",
        "print(\"vec1 / vec3:\", vec1 / vec3)\n",
        "print(\"vec1 * vec3:\", vec1 * vec3)\n",
        "print(\"2 * vec1 + 5 * vec3:\", 2 * vec1 + 5 * vec3)\n",
        "print(\"vec3[2]:\", vec3[2])\n",
        "\n",
        "vec4 = np.linspace(0, 20, 5)\n",
        "print(\"vec4:\", vec4)\n",
        "\n",
        "vec5 = np.zeros(5)\n",
        "print(\"vec5:\", vec5)\n",
        "\n",
        "vec6 = np.ones(5)\n",
        "print(\"vec6:\", vec6)\n",
        "\n",
        "vec7 = np.empty(5)\n",
        "print(\"vec7:\", vec7)\n",
        "\n",
        "print(\"np.random.rand(5):\", np.random.rand(5))\n",
        "\n",
        "v = np.array([1., 3., 5.])\n",
        "print(\"v:\", v)\n",
        "print(\"np.sum(v):\", np.sum(v))\n",
        "print(\"v.shape:\", v.shape)\n",
        "print(\"v.transpose():\", v.transpose())\n",
        "\n",
        "v1 = v[:2]\n",
        "print(\"v1 (slice of v):\", v1)\n",
        "\n",
        "v[0] = 5\n",
        "print(\"v after changing v[0]:\", v)\n",
        "print(\"v1 after changing v[0]:\", v1)\n",
        "\n",
        "v1[:] = [1., 2.]\n",
        "print(\"v1 after assignment:\", v1)\n",
        "print(\"v after changing v1:\", v)\n",
        "\n",
        "v1 = np.array([4., 6.])\n",
        "v3 = 2 * v[:2] + v1 * 3\n",
        "print(\"v3:\", v3)\n",
        "\n",
        "v1 = [4, 6]\n",
        "print(\"v1 (as a list):\", v1)\n",
        "\n",
        "v1 = np.array([4., 6.])\n",
        "v3 = 2 * v[:2] + v1 * 3\n",
        "print(\"v3 (recalculated with v1 as array):\", v3)\n",
        "\n",
        "print(\"v:\", v)\n",
        "print(\"v + 10.0:\", v + 10.0)\n",
        "print(\"np.sqrt(v):\", np.sqrt(v))\n",
        "print(\"np.cos(v):\", np.cos(v))\n",
        "print(\"np.sin(v):\", np.sin(v))\n",
        "\n",
        "v1 = np.array([1., 2.])\n",
        "v3 = np.array([3., 4.])\n",
        "print(\"v1 for dot product:\", v1)\n",
        "print(\"v3 for dot product:\", v3)\n",
        "print(\"np.dot(v1, v3):\", np.dot(v1, v3))\n",
        "print(\"v1.dot(v3):\", v1.dot(v3))\n",
        "print(\"v3.dot(v1):\", v3.dot(v1))"
      ],
      "execution_count": null,
      "outputs": [
        {
          "output_type": "stream",
          "name": "stdout",
          "text": [
            "vec1: [1. 3. 5.]\n",
            "vec1 * 2: [ 2.  6. 10.]\n",
            "vec1 * vec1: [ 1.  9. 25.]\n",
            "vec1 / 2: [0.5 1.5 2.5]\n",
            "vec1 + vec1: [ 2.  6. 10.]\n",
            "vec2: [2. 4. 6.]\n",
            "vec1 + vec2: [ 3.  7. 11.]\n",
            "vec3: [2. 4. 6.]\n",
            "vec1 + vec3: [ 3.  7. 11.]\n",
            "vec1 / vec3: [0.5        0.75       0.83333333]\n",
            "vec1 * vec3: [ 2. 12. 30.]\n",
            "2 * vec1 + 5 * vec3: [12. 26. 40.]\n",
            "vec3[2]: 6.0\n",
            "vec4: [ 0.  5. 10. 15. 20.]\n",
            "vec5: [0. 0. 0. 0. 0.]\n",
            "vec6: [1. 1. 1. 1. 1.]\n",
            "vec7: [1. 1. 1. 1. 1.]\n",
            "np.random.rand(5): [0.93869121 0.56856187 0.14675322 0.71449533 0.53623884]\n",
            "v: [1. 3. 5.]\n",
            "np.sum(v): 9.0\n",
            "v.shape: (3,)\n",
            "v.transpose(): [1. 3. 5.]\n",
            "v1 (slice of v): [1. 3.]\n",
            "v after changing v[0]: [5. 3. 5.]\n",
            "v1 after changing v[0]: [5. 3.]\n",
            "v1 after assignment: [1. 2.]\n",
            "v after changing v1: [1. 2. 5.]\n",
            "v3: [14. 22.]\n",
            "v1 (as a list): [4, 6]\n",
            "v3 (recalculated with v1 as array): [14. 22.]\n",
            "v: [1. 2. 5.]\n",
            "v + 10.0: [11. 12. 15.]\n",
            "np.sqrt(v): [1.         1.41421356 2.23606798]\n",
            "np.cos(v): [ 0.54030231 -0.41614684  0.28366219]\n",
            "np.sin(v): [ 0.84147098  0.90929743 -0.95892427]\n",
            "v1 for dot product: [1. 2.]\n",
            "v3 for dot product: [3. 4.]\n",
            "np.dot(v1, v3): 11.0\n",
            "v1.dot(v3): 11.0\n",
            "v3.dot(v1): 11.0\n"
          ]
        }
      ]
    },
    {
      "cell_type": "code",
      "source": [
        "#Bài tập 1\n",
        "from sympy import Symbol, solve\n",
        "x = Symbol('x')\n",
        "bieuthuc = x + 3 - 5\n",
        "solve(bieuthuc)\n",
        "\n",
        "bieuthuc = x**2 + 3 - 5\n",
        "nghiemx = solve(bieuthuc)\n",
        "nghiemx\n",
        "\n",
        "nghiemx[0]\n",
        "\n",
        "nghiemx[1]\n"
      ],
      "metadata": {
        "colab": {
          "base_uri": "https://localhost:8080/",
          "height": 39
        },
        "id": "40MeZt7xzqR3",
        "outputId": "de418c8e-1fd5-48f6-bb79-42329e5a00e3"
      },
      "execution_count": null,
      "outputs": [
        {
          "output_type": "execute_result",
          "data": {
            "text/plain": [
              "sqrt(2)"
            ],
            "text/latex": "$\\displaystyle \\sqrt{2}$"
          },
          "metadata": {},
          "execution_count": 17
        }
      ]
    },
    {
      "cell_type": "code",
      "source": [
        "#Bài tập 2\n",
        "from sympy import solve\n",
        "x = Symbol('x')\n",
        "ptb2 = x**2 + 9*x +8\n",
        "solve(ptb2, dict = True)\n",
        "\n",
        "ptb2 = x**2 + 1*x + 10\n",
        "nghiemx = solve(ptb2, dict = True)\n",
        "nghiemx"
      ],
      "metadata": {
        "colab": {
          "base_uri": "https://localhost:8080/"
        },
        "id": "T0Qrf2JX0CUf",
        "outputId": "83325977-9bf6-40a3-d444-d07fb19b21ed"
      },
      "execution_count": null,
      "outputs": [
        {
          "output_type": "execute_result",
          "data": {
            "text/plain": [
              "[{x: -1/2 - sqrt(39)*I/2}, {x: -1/2 + sqrt(39)*I/2}]"
            ]
          },
          "metadata": {},
          "execution_count": 18
        }
      ]
    },
    {
      "cell_type": "code",
      "source": [
        "#Bài tập 3\n",
        "from sympy import solve\n",
        "x = Symbol('x')\n",
        "a = Symbol('a')\n",
        "b = Symbol('b')\n",
        "c = Symbol('c')\n",
        "ptb2 = a*x*x + b*x + c\n",
        "nghiem = solve(ptb2, x, dict=True)\n",
        "nghiem"
      ],
      "metadata": {
        "colab": {
          "base_uri": "https://localhost:8080/"
        },
        "id": "bStqr1pO0TOz",
        "outputId": "b60d6b91-2c32-4e7d-86b3-f2420f45af0f"
      },
      "execution_count": null,
      "outputs": [
        {
          "output_type": "execute_result",
          "data": {
            "text/plain": [
              "[{x: (-b - sqrt(-4*a*c + b**2))/(2*a)}, {x: (-b + sqrt(-4*a*c + b**2))/(2*a)}]"
            ]
          },
          "metadata": {},
          "execution_count": 20
        }
      ]
    },
    {
      "cell_type": "code",
      "source": [
        "#Bài tập 4\n",
        "from sympy import Symbol, solve\n",
        "x = Symbol('x')\n",
        "y = Symbol('y')\n",
        "pt1 = 2*x+3*y-12\n",
        "pt2 = 3*x-2*y-5\n",
        "solve((pt1, pt2), dict=True)\n",
        "\n",
        "nghiem = solve((pt1, pt2), dict=True)\n",
        "nghiem = nghiem[0]\n",
        "pt1.subs({x:nghiem[x], y:nghiem[y]})\n",
        "\n",
        "pt2.subs({x:nghiem[x], y:nghiem[y]})"
      ],
      "metadata": {
        "colab": {
          "base_uri": "https://localhost:8080/",
          "height": 37
        },
        "id": "yyZN0DsD0vbT",
        "outputId": "a9816aeb-e62a-4e3d-b4b4-246c5b656eae"
      },
      "execution_count": null,
      "outputs": [
        {
          "output_type": "execute_result",
          "data": {
            "text/plain": [
              "0"
            ],
            "text/latex": "$\\displaystyle 0$"
          },
          "metadata": {},
          "execution_count": 21
        }
      ]
    },
    {
      "cell_type": "code",
      "source": [
        "#Bài tập 5\n",
        "import numpy as np\n",
        "\n",
        "M1 = np.array([ [9, 12], [23,30] ])\n",
        "u = np.array([ 2, 1])\n",
        "tichM1u = M1.dot(u)\n",
        "print(tichM1u)\n",
        "tichuM1 = u.dot(M1)\n",
        "print(tichuM1)\n",
        "np.dot(M1, u)\n",
        "np.dot(u, M1)\n",
        "mat1 = np.zeros( [5,5])\n",
        "mat2 = np.ones( [5,5])\n",
        "mat3 = mat1 + 2* mat2\n",
        "mat4 = mat3\n",
        "mat3[3][2] = 10\n",
        "mat5 = np.copy(mat3)\n",
        "mat3[3][2] = 10\n",
        "mat6 = np.empty([4, 5])\n",
        "mat7 = np.identity(4)\n",
        "mat8 = np.random.rand(4,5)"
      ],
      "metadata": {
        "id": "iUxd_S8W1GSP",
        "colab": {
          "base_uri": "https://localhost:8080/"
        },
        "outputId": "d2d93c0d-3418-4f50-ee9d-bd761df3c3c6"
      },
      "execution_count": 4,
      "outputs": [
        {
          "output_type": "stream",
          "name": "stdout",
          "text": [
            "[30 76]\n",
            "[41 54]\n"
          ]
        }
      ]
    }
  ]
}