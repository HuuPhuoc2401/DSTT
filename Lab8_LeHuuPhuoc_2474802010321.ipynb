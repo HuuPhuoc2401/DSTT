{
  "nbformat": 4,
  "nbformat_minor": 0,
  "metadata": {
    "colab": {
      "provenance": []
    },
    "kernelspec": {
      "name": "python3",
      "display_name": "Python 3"
    },
    "language_info": {
      "name": "python"
    }
  },
  "cells": [
    {
      "cell_type": "code",
      "execution_count": 3,
      "metadata": {
        "colab": {
          "base_uri": "https://localhost:8080/"
        },
        "id": "rJx8WAUPyonF",
        "outputId": "89d4b1ba-baf9-4471-ce5e-710f1697177f"
      },
      "outputs": [
        {
          "output_type": "stream",
          "name": "stdout",
          "text": [
            "[ 18 -11   9  -8]\n",
            "[ 9.  -5.5  4.5 -4. ]\n",
            "[ 1. -2. -1.]\n",
            "Matrix([[c*x, c*y], [c*y, c*x]])\n",
            "Câu a: Vector w1 là tổ hợp tuyến tính của v1, v2, v3.\n",
            "Hệ số tổ hợp tuyến tính: [ 5.00000000e-01 -1.66533454e-16 -5.00000000e-01]\n",
            "Câu b: Vector w2 là tổ hợp tuyến tính của v1, v2, v3.\n",
            "Hệ số tổ hợp tuyến tính: [ 3.15251974e+16 -6.30503948e+16  3.15251974e+16]\n"
          ]
        },
        {
          "output_type": "execute_result",
          "data": {
            "text/plain": [
              "{c1: 0, c2: 0}"
            ]
          },
          "metadata": {},
          "execution_count": 3
        }
      ],
      "source": [
        "#Bài 1.2\n",
        "#Bài tập 1\n",
        "import numpy as np\n",
        "u = np.array([2,-1,5,0])\n",
        "v = np.array([4,3,1,-1])\n",
        "w = np.array([-6,2,0,3])\n",
        "x = 2*u-(v+3*w)\n",
        "print (x)\n",
        "x = 0.5*(2*u-v-3*w)\n",
        "print (x)\n",
        "#Bài tập 2\n",
        "from numpy import linalg\n",
        "A = np.matrix([[0, -1, 3],[1, 1, 1],[4, 2, 2]])\n",
        "B = np.array([-1, -2, -2])\n",
        "X = np.linalg.solve(A, B)\n",
        "print (X)\n",
        "#Bài tập 3\n",
        "A = np.matrix([[1,0],[0,0]])\n",
        "B = np.matrix([[0,0],[0,1]])\n",
        "from numpy import linalg as LA\n",
        "LA.inv(A+B)\n",
        "LA.det(A)\n",
        "LA.det(B)\n",
        "LA.det(A+B)\n",
        "#Bài tập 4\n",
        "import sympy as sp\n",
        "x, y = sp.symbols('x y')\n",
        "x1, y1 = sp.symbols('x1 y1')\n",
        "x2, y2 = sp.symbols('x2 y2')\n",
        "A = sp.Matrix([[x, y],[y, x]])\n",
        "A1 = sp.Matrix([[x1, y1],[y1, x1]])\n",
        "A2 = sp.Matrix([[x2, y2],[y2, x2]])\n",
        "A1.T\n",
        "(A1+A2).T\n",
        "((A1+A2).T).equals(A1+A2)\n",
        "c = sp.symbols('c')\n",
        "print (c*A)\n",
        "((c*A).T).equals(c*A)\n",
        "#Bài tập 5\n",
        "import numpy as np\n",
        "v1 = np.array([1, 2, 3])\n",
        "v2 = np.array([0, 1, 2])\n",
        "v3 = np.array([-1, 0, 1])\n",
        "A = np.column_stack([v1, v2, v3])\n",
        "# Câu a: kiểm tra w = (1, 1, 1)\n",
        "w1 = np.array([1, 1, 1])\n",
        "try:\n",
        "    c1 = np.linalg.solve(A, w1)\n",
        "    print(\"Câu a: Vector w1 là tổ hợp tuyến tính của v1, v2, v3.\")\n",
        "    print(\"Hệ số tổ hợp tuyến tính:\", c1)\n",
        "except np.linalg.LinAlgError:\n",
        "    print(\"Câu a: Vector w1 KHÔNG là tổ hợp tuyến tính của v1, v2, v3.\")\n",
        "# Câu b: kiểm tra w = (1, -2, 2)\n",
        "w2 = np.array([1, -2, 2])\n",
        "try:\n",
        "    c2 = np.linalg.solve(A, w2)\n",
        "    print(\"Câu b: Vector w2 là tổ hợp tuyến tính của v1, v2, v3.\")\n",
        "    print(\"Hệ số tổ hợp tuyến tính:\", c2)\n",
        "except np.linalg.LinAlgError:\n",
        "    print(\"Câu b: Vector w2 KHÔNG là tổ hợp tuyến tính của v1, v2, v3.\")\n",
        "#Bài tập 6\n",
        "import sympy as sp\n",
        "c1, c2, c3 = sp.symbols('c1 c2 c3')\n",
        "sp.solve([c1-2*c3, 2*c1+c2, 3*c1+2*c2+c3], [c1, c2, c3])\n",
        "#Bài tập 7\n",
        "import sympy as sp\n",
        "c1, c2 = sp.symbols('c1 c2')\n",
        "u1, u2 = sp.symbols('u1 u2')\n",
        "sp.solve([c1+c2-u1,c1-c2-u2])\n",
        "u1 = 0\n",
        "u2 = 0\n",
        "sp.solve([c1+c2-u1,c1-c2-u2])"
      ]
    },
    {
      "cell_type": "code",
      "source": [
        "#Bài 2.2\n",
        "#Câu a\n",
        "import numpy as np\n",
        "P = np.array([[0,0,3,3,1,1,2,2,1,1],[0,5,5,4,4,3,3,2,2,0]])\n",
        "vecdelta = np.array([4,2])\n",
        "P_caua = (P.T + vecdelta).T\n",
        "11\n",
        "print (P_caua)\n",
        "#Câu b\n",
        "import numpy as np\n",
        "P = np.array([[0,0,3,3,1,1,2,2,1,1],[0,5,5,4,4,3,3,2,2,0]])\n",
        "vecdelta = np.array([4,-2])\n",
        "matran_biendoi = np.array([[1.0, 0.0],[0.0, 2.0]])\n",
        "P_caub = (P.T @ matran_biendoi + vecdelta).T\n",
        "print (P_caub)"
      ],
      "metadata": {
        "colab": {
          "base_uri": "https://localhost:8080/"
        },
        "id": "od9Am8Jf0sZG",
        "outputId": "d62775be-bb6e-4abe-acfa-8bfd40a3d199"
      },
      "execution_count": 4,
      "outputs": [
        {
          "output_type": "stream",
          "name": "stdout",
          "text": [
            "[[4 4 7 7 5 5 6 6 5 5]\n",
            " [2 7 7 6 6 5 5 4 4 2]]\n",
            "[[ 4.  4.  7.  7.  5.  5.  6.  6.  5.  5.]\n",
            " [-2.  8.  8.  6.  6.  4.  4.  2.  2. -2.]]\n"
          ]
        }
      ]
    },
    {
      "cell_type": "code",
      "source": [
        "#Bài tập\n",
        "#Câu 1\n",
        "import numpy as np\n",
        "def g(v):\n",
        "    x, y, z = v\n",
        "    return np.array([x + y, z + 2, 0])\n",
        "u = np.array([1, 2, 3])\n",
        "v = np.array([4, 0, -1])\n",
        "c = 3\n",
        "left1 = g(u + v)\n",
        "right1 = g(u) + g(v)\n",
        "left2 = g(c * u)\n",
        "right2 = c * g(u)\n",
        "print(\"Kiểm tra g(u + v) == g(u) + g(v):\", np.allclose(left1, right1))\n",
        "print(\"Kiểm tra g(c * u) == c * g(u):\", np.allclose(left2, right2))"
      ],
      "metadata": {
        "colab": {
          "base_uri": "https://localhost:8080/"
        },
        "id": "g7n-Kd0O1KQf",
        "outputId": "c10b827c-5017-4076-b416-ce2221ced7ce"
      },
      "execution_count": 5,
      "outputs": [
        {
          "output_type": "stream",
          "name": "stdout",
          "text": [
            "Kiểm tra g(u + v) == g(u) + g(v): False\n",
            "Kiểm tra g(c * u) == c * g(u): False\n"
          ]
        }
      ]
    },
    {
      "cell_type": "code",
      "source": [
        "#Câu 2\n",
        "import numpy as np\n",
        "import matplotlib.pyplot as plt\n",
        "A = np.array([[0, 1],\n",
        "              [1, -1]])\n",
        "F = np.array([\n",
        "    [0, 0],\n",
        "    [1, 0],\n",
        "    [1, 1],\n",
        "    [0, 1],\n",
        "    [0, 0]\n",
        "])\n",
        "F_transformed = F @ A.T\n",
        "plt.figure(figsize=(6,6))\n",
        "plt.plot(F[:,0], F[:,1], 'bo-', label='Gốc F')\n",
        "plt.plot(F_transformed[:,0], F_transformed[:,1], 'go-', label='F biến đổi')\n",
        "plt.axhline(0, color='gray')\n",
        "plt.axvline(0, color='gray')\n",
        "plt.grid()\n",
        "plt.legend()\n",
        "plt.axis('equal')\n",
        "plt.title(\"Biến đổi tuyến tính\")\n",
        "plt.show()"
      ],
      "metadata": {
        "colab": {
          "base_uri": "https://localhost:8080/",
          "height": 547
        },
        "id": "Ssnsxl-I1Oun",
        "outputId": "fc4a162c-09d9-4294-dc47-3867c9b7067a"
      },
      "execution_count": 6,
      "outputs": [
        {
          "output_type": "display_data",
          "data": {
            "text/plain": [
              "<Figure size 600x600 with 1 Axes>"
            ],
            "image/png": "[encoded data removed]"
          },
          "metadata": {}
        }
      ]
    },
    {
      "cell_type": "code",
      "source": [
        "#Câu 3\n",
        "from sympy import symbols, Matrix, simplify\n",
        "v1, v2, u1, u2, c = symbols('v1 v2 u1 u2 c')\n",
        "def T(v1, v2):\n",
        "    return Matrix([v1 - v2, v1 + 2*v2])\n",
        "u = Matrix([u1, u2])\n",
        "v = Matrix([v1, v2])\n",
        "T_sum = T(u1 + v1, u2 + v2)\n",
        "T_u = T(u1, u2)\n",
        "T_v = T(v1, v2)\n",
        "T_add = T_u + T_v\n",
        "print(\"Kiểm tra T(u + v) == T(u) + T(v):\", simplify(T_sum - T_add) == Matrix([0, 0]))\n",
        "T_cu = T(c*u1, c*u2)\n",
        "c_Tu = c * T_u\n",
        "print(\"Kiểm tra T(c*u) == c*T(u):\", simplify(T_cu - c_Tu) == Matrix([0, 0]))"
      ],
      "metadata": {
        "colab": {
          "base_uri": "https://localhost:8080/"
        },
        "id": "PtF09WHV1P6A",
        "outputId": "5302dde0-23f7-4718-9535-e9d19d1d44eb"
      },
      "execution_count": 7,
      "outputs": [
        {
          "output_type": "stream",
          "name": "stdout",
          "text": [
            "Kiểm tra T(u + v) == T(u) + T(v): True\n",
            "Kiểm tra T(c*u) == c*T(u): True\n"
          ]
        }
      ]
    },
    {
      "cell_type": "code",
      "source": [
        "#Câu 4\n",
        "import numpy as np\n",
        "import math\n",
        "a = 13\n",
        "b = -10\n",
        "c = 13\n",
        "A = np.array([[a, b / 2],\n",
        "              [b / 2, c]])\n",
        "print(\"Ma trận A:\")\n",
        "print(A)\n",
        "eigenvalues, eigenvectors = np.linalg.eig(A)\n",
        "print(\"\\nGiá trị riêng (λ1, λ2):\", eigenvalues)\n",
        "print(\"\\nVector riêng (cột là vector riêng):\")\n",
        "print(eigenvectors)\n",
        "v = eigenvectors[:, 0]\n",
        "theta_rad = np.arctan2(v[1], v[0])\n",
        "print(\"\\nGóc của vector riêng đầu tiên (radian):\", theta_rad)\n",
        "theta_deg = np.degrees(theta_rad)\n",
        "print(\"Góc của vector riêng đầu tiên (độ):\", theta_deg)"
      ],
      "metadata": {
        "colab": {
          "base_uri": "https://localhost:8080/"
        },
        "id": "BdeLtJNO1RAg",
        "outputId": "e760c6f6-2934-4890-f39c-4dfdcc53c64d"
      },
      "execution_count": 9,
      "outputs": [
        {
          "output_type": "stream",
          "name": "stdout",
          "text": [
            "Ma trận A:\n",
            "[[13. -5.]\n",
            " [-5. 13.]]\n",
            "\n",
            "Giá trị riêng (λ1, λ2): [18.  8.]\n",
            "\n",
            "Vector riêng (cột là vector riêng):\n",
            "[[ 0.70710678  0.70710678]\n",
            " [-0.70710678  0.70710678]]\n",
            "\n",
            "Góc của vector riêng đầu tiên (radian): -0.7853981633974483\n",
            "Góc của vector riêng đầu tiên (độ): -45.0\n"
          ]
        }
      ]
    }
  ]
}