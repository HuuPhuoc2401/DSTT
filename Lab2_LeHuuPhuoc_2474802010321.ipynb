{
  "nbformat": 4,
  "nbformat_minor": 0,
  "metadata": {
    "colab": {
      "provenance": []
    },
    "kernelspec": {
      "name": "python3",
      "display_name": "Python 3"
    },
    "language_info": {
      "name": "python"
    }
  },
  "cells": [
    {
      "cell_type": "code",
      "execution_count": null,
      "metadata": {
        "id": "I3bpL4MDpfL0",
        "colab": {
          "base_uri": "https://localhost:8080/"
        },
        "outputId": "084f838e-57f3-4f58-cfac-0320d0ed81a2"
      },
      "outputs": [
        {
          "output_type": "stream",
          "name": "stdout",
          "text": [
            "[30, 50, 70]\n",
            "[5, 9, 13]\n",
            "68\n",
            "56\n"
          ]
        }
      ],
      "source": [
        "#Bài 1\n",
        "def scale(a, v):\n",
        "   return [a*vi for vi in v]\n",
        "\n",
        "def sumvector(v, w):\n",
        "  return [vi+wi for (vi, wi) in zip(v, w)]\n",
        "\n",
        "def dotvector(v, w):\n",
        "  return sum([vi*wi for(vi, wi) in zip(v, w)])\n",
        "\n",
        "def lenvector(v):\n",
        "  return dotvector(v, v)\n",
        "\n",
        "v = [3, 5, 7]\n",
        "w = [2, 4, 6]\n",
        "\n",
        "print(scale(10, v))\n",
        "print(sumvector(v, w))\n",
        "print(dotvector(v, w))\n",
        "print(lenvector(w))"
      ]
    },
    {
      "cell_type": "code",
      "source": [
        "#Bài 2\n",
        "import numpy as np\n",
        "scores = np.array([-1, 1, 2, -3, 5, -4])\n",
        "print(np.select([scores >=0, scores <0],['so duong', 'so am'], default='unknown'))\n",
        "scores = np.array([-1, 1, 2, 0, -3, 5, 0, -4])\n",
        "print(np.select([scores >0, scores ==0, scores < 0],['so duong', 'so 0', 'so am'], default='unknown'))"
      ],
      "metadata": {
        "colab": {
          "base_uri": "https://localhost:8080/"
        },
        "id": "iyWUv3DzrSOW",
        "outputId": "58c8a19e-70d5-47be-b503-8d03b0b696c0"
      },
      "execution_count": null,
      "outputs": [
        {
          "output_type": "stream",
          "name": "stdout",
          "text": [
            "['so am' 'so duong' 'so duong' 'so am' 'so duong' 'so am']\n",
            "['so am' 'so duong' 'so duong' 'so 0' 'so am' 'so duong' 'so 0' 'so am']\n"
          ]
        }
      ]
    },
    {
      "cell_type": "code",
      "source": [
        "#Bài 3.1\n",
        "import numpy as np\n",
        "from scipy import linalg, sparse\n",
        "D = np.asmatrix([ [3,4], [5,6] ])\n",
        "print (D)\n",
        "C = np.asmatrix(np.random.random((5,7)))\n",
        "print (C)\n",
        "A = np.asmatrix(np.random.random((2,2)))\n",
        "print (A)\n",
        "b = np.array([(1+5j, 2j, 3j),(4, 5, 6)])\n",
        "B = np.asmatrix(b)\n",
        "print (b)\n",
        "print (B)\n",
        "A.T\n",
        "A.I\n",
        "M = np.array([[-1,3,2],[0,-2,1],[1,5,-2]])\n",
        "v_diag = np.diag(M)\n",
        "print (v_diag)\n",
        "M_diag = np.diag(v_diag)\n",
        "print (M_diag)\n",
        "I2 = np.identity(2)\n",
        "import sympy as sp\n",
        "x = sp.Symbol('x')\n",
        "y = sp.Symbol('y')\n",
        "z = sp.Symbol('z')\n",
        "sp.solve([x*x+2-6, y-1-6,x+z-1, 2*x*x-8, z*z+4-5,y-z-8], [x, y, z])\n",
        "x = [1, 2, 3]\n",
        "y = [1, 2, 3]\n",
        "print(all([x[i]==y[i] for i in range(len(x))]))\n",
        "#True\n",
        "y = [1, 2, 4]\n",
        "print(all([x[i]==y[i] for i in range(len(x))]))\n",
        "#False\n",
        "import numpy as np\n",
        "print(np.array_equal([1, 2], [1, 2]))\n",
        "#True\n",
        "print(np.array_equal(np.array([1,2]), np.array([1,2])))\n",
        "#True"
      ],
      "metadata": {
        "id": "7sLt-OBUr8wv",
        "colab": {
          "base_uri": "https://localhost:8080/"
        },
        "outputId": "59b97f30-6751-457d-b2ce-be0c7d306e75"
      },
      "execution_count": 3,
      "outputs": [
        {
          "output_type": "stream",
          "name": "stdout",
          "text": [
            "[[3 4]\n",
            " [5 6]]\n",
            "[[0.30937259 0.5536348  0.09238955 0.91774817 0.70459885 0.9619671\n",
            "  0.04463026]\n",
            " [0.86760891 0.82178317 0.29832877 0.34516152 0.40189901 0.09369308\n",
            "  0.51409962]\n",
            " [0.44578797 0.81510463 0.77378845 0.18112825 0.26888385 0.13574057\n",
            "  0.180574  ]\n",
            " [0.05213775 0.89329955 0.09573859 0.70513039 0.32131979 0.3255578\n",
            "  0.55087265]\n",
            " [0.52096552 0.10222612 0.09150993 0.44915963 0.89802412 0.97117637\n",
            "  0.94888493]]\n",
            "[[0.9852002  0.39221868]\n",
            " [0.93411055 0.2525526 ]]\n",
            "[[1.+5.j 0.+2.j 0.+3.j]\n",
            " [4.+0.j 5.+0.j 6.+0.j]]\n",
            "[[1.+5.j 0.+2.j 0.+3.j]\n",
            " [4.+0.j 5.+0.j 6.+0.j]]\n",
            "[-1 -2 -2]\n",
            "[[-1  0  0]\n",
            " [ 0 -2  0]\n",
            " [ 0  0 -2]]\n",
            "True\n",
            "False\n",
            "True\n",
            "True\n"
          ]
        }
      ]
    },
    {
      "cell_type": "code",
      "source": [
        "#Bài 3.2\n",
        "import numpy as np\n",
        "A = np.reshape(np.arange(36.0), (6,6))\n",
        "print (A)\n",
        "I6 = np.identity(6)\n",
        "print (I6)\n",
        "A.size\n",
        "np.matrix.diagonal(A)\n",
        "A = A + I6\n",
        "print (A)\n",
        "vecB = np.array([1., 2., 3., 4., 5., 6.])\n",
        "C = A.dot(vecB)\n",
        "print (C)\n",
        "D = np.array([[1., 2., 3., 4., 5., 6.], [1., 0., 1., 0., 1., 0.]])\n",
        "print (D)\n",
        "E = A.dot(D.T)\n",
        "F = np.array([[1., 1.], [2., 0.], [3., 1.], [4., 0], [5., 1], [6., 0.]])\n",
        "G = A.dot(F)\n",
        "print (F)\n",
        "print (G)\n",
        "np.linalg.inv(A)\n",
        "np.linalg.inv(np.linalg.inv(A))"
      ],
      "metadata": {
        "colab": {
          "base_uri": "https://localhost:8080/"
        },
        "id": "aHQYAzkuvL7E",
        "outputId": "97a72168-0c1a-43ba-8a1a-f6435239558b"
      },
      "execution_count": 5,
      "outputs": [
        {
          "output_type": "stream",
          "name": "stdout",
          "text": [
            "[[ 0.  1.  2.  3.  4.  5.]\n",
            " [ 6.  7.  8.  9. 10. 11.]\n",
            " [12. 13. 14. 15. 16. 17.]\n",
            " [18. 19. 20. 21. 22. 23.]\n",
            " [24. 25. 26. 27. 28. 29.]\n",
            " [30. 31. 32. 33. 34. 35.]]\n",
            "[[1. 0. 0. 0. 0. 0.]\n",
            " [0. 1. 0. 0. 0. 0.]\n",
            " [0. 0. 1. 0. 0. 0.]\n",
            " [0. 0. 0. 1. 0. 0.]\n",
            " [0. 0. 0. 0. 1. 0.]\n",
            " [0. 0. 0. 0. 0. 1.]]\n",
            "[[ 1.  1.  2.  3.  4.  5.]\n",
            " [ 6.  8.  8.  9. 10. 11.]\n",
            " [12. 13. 15. 15. 16. 17.]\n",
            " [18. 19. 20. 22. 22. 23.]\n",
            " [24. 25. 26. 27. 29. 29.]\n",
            " [30. 31. 32. 33. 34. 36.]]\n",
            "[ 71. 198. 325. 452. 579. 706.]\n",
            "[[1. 2. 3. 4. 5. 6.]\n",
            " [1. 0. 1. 0. 1. 0.]]\n",
            "[[1. 1.]\n",
            " [2. 0.]\n",
            " [3. 1.]\n",
            " [4. 0.]\n",
            " [5. 1.]\n",
            " [6. 0.]]\n",
            "[[ 71.   7.]\n",
            " [198.  24.]\n",
            " [325.  43.]\n",
            " [452.  60.]\n",
            " [579.  79.]\n",
            " [706.  96.]]\n"
          ]
        },
        {
          "output_type": "execute_result",
          "data": {
            "text/plain": [
              "array([[ 1.,  1.,  2.,  3.,  4.,  5.],\n",
              "       [ 6.,  8.,  8.,  9., 10., 11.],\n",
              "       [12., 13., 15., 15., 16., 17.],\n",
              "       [18., 19., 20., 22., 22., 23.],\n",
              "       [24., 25., 26., 27., 29., 29.],\n",
              "       [30., 31., 32., 33., 34., 36.]])"
            ]
          },
          "metadata": {},
          "execution_count": 5
        }
      ]
    },
    {
      "cell_type": "code",
      "source": [
        "#Bài 4\n",
        "import numpy as np\n",
        "A = np.array( [ [1,1], [1,0] ] )\n",
        "b = np.array([1, 0])\n",
        "n = 10\n",
        "for i in range(n):\n",
        "  b = A.dot(b)\n",
        "  print(b)"
      ],
      "metadata": {
        "colab": {
          "base_uri": "https://localhost:8080/"
        },
        "id": "hnO9X0u1v3gN",
        "outputId": "4fc265a2-8b5f-41f1-c891-222f506e57b9"
      },
      "execution_count": 6,
      "outputs": [
        {
          "output_type": "stream",
          "name": "stdout",
          "text": [
            "[1 1]\n",
            "[2 1]\n",
            "[3 2]\n",
            "[5 3]\n",
            "[8 5]\n",
            "[13  8]\n",
            "[21 13]\n",
            "[34 21]\n",
            "[55 34]\n",
            "[89 55]\n"
          ]
        }
      ]
    },
    {
      "cell_type": "code",
      "source": [
        "#Bài 5.2\n",
        "import sympy as sp\n",
        "from sympy import Symbol\n",
        "x1 = Symbol('x1')\n",
        "x2 = Symbol('x2')\n",
        "x3 = Symbol('x3')\n",
        "x4 = Symbol('x4')\n",
        "from sympy import solve\n",
        "pt1 = x4+610-450-x1\n",
        "pt2 = x1+400-x2-640\n",
        "pt3 = x2+600-x3\n",
        "pt4 = x3-x4-520\n",
        "nghiem = sp.solve((pt1, pt2, pt3, pt4))\n",
        "nghiem\n",
        "import numpy as np\n",
        "A = np.matrix([[-1,0,0,1],[1,-1,0,0],[0,1,-1,0],[0,0,1,-1]])\n",
        "A_nghichdao = np.linalg.inv(A)"
      ],
      "metadata": {
        "colab": {
          "base_uri": "https://localhost:8080/"
        },
        "id": "B8Eh0umKwI6o",
        "outputId": "28b83897-e47a-4ba7-a429-9a81d8149182"
      },
      "execution_count": 8,
      "outputs": [
        {
          "output_type": "execute_result",
          "data": {
            "text/plain": [
              "{x1: x4 + 160, x2: x4 - 80, x3: x4 + 520}"
            ]
          },
          "metadata": {},
          "execution_count": 8
        }
      ]
    },
    {
      "cell_type": "code",
      "source": [
        "#Bài tập\n",
        "#Câu 1\n",
        "import numpy as np\n",
        "# Vấn đề 1: Tìm giao điểm của hai đường thẳng\n",
        "A1 = np.array([[1, -3],\n",
        "               [2, 3]])\n",
        "b1 = np.array([2, 6])\n",
        "x1 = np.linalg.solve(A1, b1)\n",
        "print(\"Vấn đề 1: Giao điểm hai đường thẳng là:\", x1)\n",
        "\n",
        "# Vấn đề 2: Tìm giao điểm của 3 mặt phẳng\n",
        "A2 = np.array([[1, -2, 1],\n",
        "               [3, -1, -1],\n",
        "               [1, 1, 1]])\n",
        "b2 = np.array([3, -3, 6])\n",
        "x2 = np.linalg.solve(A2, b2)\n",
        "print(\"Vấn đề 2: Giao điểm ba mặt phẳng là:\", x2)\n",
        "\n",
        "# Vấn đề 3: Tìm hệ số a, b, c sao cho p(x) thỏa 3 điểm\n",
        "A3 = np.array([[1, 1, 1],\n",
        "               [4, 2, 1],\n",
        "               [9, 3, 1]])\n",
        "b3 = np.array([4, 3, 4])\n",
        "x3 = np.linalg.solve(A3, b3)\n",
        "print(\"Vấn đề 3: Hệ số của đa thức bậc 2 là a, b, c:\", x3)\n",
        "\n",
        "# Vấn đề 4: Tìm hệ số khi phân tích tích phân\n",
        "A4 = np.array([[1, 1, 1],\n",
        "               [-3, 2, -1],\n",
        "               [2, 2, 0]])\n",
        "b4 = np.array([0, 3, 0])\n",
        "x4 = np.linalg.solve(A4, b4)\n",
        "print(\"Vấn đề 4: Các hệ số a, b, c là:\", x4)"
      ],
      "metadata": {
        "colab": {
          "base_uri": "https://localhost:8080/"
        },
        "id": "NUAK8pnvw2TY",
        "outputId": "5f3d4b35-9566-44e6-f5b5-115c55959ff4"
      },
      "execution_count": 9,
      "outputs": [
        {
          "output_type": "stream",
          "name": "stdout",
          "text": [
            "Vấn đề 1: Giao điểm hai đường thẳng là: [2.66666667 0.22222222]\n",
            "Vấn đề 2: Giao điểm ba mặt phẳng là: [0.75 1.   4.25]\n",
            "Vấn đề 3: Hệ số của đa thức bậc 2 là a, b, c: [ 1. -4.  7.]\n",
            "Vấn đề 4: Các hệ số a, b, c là: [-0.6  0.6  0. ]\n"
          ]
        }
      ]
    },
    {
      "cell_type": "code",
      "source": [
        "#Câu 2\n",
        "from sympy import symbols, Eq, solve, Matrix\n",
        "x, y, z, a, b, c = symbols('x y z a b c')\n",
        "# Vấn đề 1\n",
        "eqs1 = [Eq(x - 3*y, 2),\n",
        "        Eq(2*x + y, 6)]\n",
        "sol1 = solve(eqs1, (x, y))\n",
        "print(\"Vấn đề 1 sympy:\", sol1)\n",
        "\n",
        "# Vấn đề 2\n",
        "eqs2 = [Eq(x - 2*y + z, 3),\n",
        "        Eq(3*x - y - z, -3),\n",
        "        Eq(x + y + z, 6)]\n",
        "sol2 = solve(eqs2, (x, y, z))\n",
        "print(\"Vấn đề 2 sympy:\", sol2)\n",
        "\n",
        "# Vấn đề 3\n",
        "eqs3 = [Eq(a + b + c, 4),\n",
        "        Eq(4*a + 2*b + c, 3),\n",
        "        Eq(9*a + 3*b + c, 4)]\n",
        "sol3 = solve(eqs3, (a, b, c))\n",
        "print(\"Vấn đề 3 sympy:\", sol3)\n",
        "\n",
        "# Vấn đề 4\n",
        "eqs4 = [Eq(a + b + c, 0),\n",
        "        Eq(-3*a + 2*b - c, 3),\n",
        "        Eq(2*a + 2*b, 0)]\n",
        "sol4 = solve(eqs4, (a, b, c))\n",
        "print(\"Vấn đề 4 sympy:\", sol4)"
      ],
      "metadata": {
        "colab": {
          "base_uri": "https://localhost:8080/"
        },
        "id": "qGbXB1bdxxrK",
        "outputId": "07be17a7-f662-4c7a-84e3-8b04985efc68"
      },
      "execution_count": 10,
      "outputs": [
        {
          "output_type": "stream",
          "name": "stdout",
          "text": [
            "Vấn đề 1 sympy: {x: 20/7, y: 2/7}\n",
            "Vấn đề 2 sympy: {x: 3/4, y: 1, z: 17/4}\n",
            "Vấn đề 3 sympy: {a: 1, b: -4, c: 7}\n",
            "Vấn đề 4 sympy: {a: -3/5, b: 3/5, c: 0}\n"
          ]
        }
      ]
    },
    {
      "cell_type": "code",
      "source": [
        "#Câu 3\n",
        "import numpy as np\n",
        "def matrix_power(F, n):\n",
        "    result = np.identity(len(F), dtype=int)\n",
        "    while n > 0:\n",
        "        if n % 2 == 1:\n",
        "            result = np.dot(result, F)\n",
        "        F = np.dot(F, F)\n",
        "        n //= 2\n",
        "    return result\n",
        "# Ma trận Fibonacci\n",
        "F = np.array([[1, 1], [1, 0]], dtype=int)\n",
        "k = 10\n",
        "Fk = matrix_power(F, k)\n",
        "print(f\"F^{k} =\\n\", Fk)\n",
        "print(\"Fib(k+1):\", Fk[0][0])\n",
        "print(\"Fib(k):\", Fk[1][0])"
      ],
      "metadata": {
        "colab": {
          "base_uri": "https://localhost:8080/"
        },
        "id": "_5DLJn70yMoQ",
        "outputId": "485ba4f1-bc3b-452a-909e-4322db771945"
      },
      "execution_count": 11,
      "outputs": [
        {
          "output_type": "stream",
          "name": "stdout",
          "text": [
            "F^10 =\n",
            " [[89 55]\n",
            " [55 34]]\n",
            "Fib(k+1): 89\n",
            "Fib(k): 55\n"
          ]
        }
      ]
    }
  ]
}