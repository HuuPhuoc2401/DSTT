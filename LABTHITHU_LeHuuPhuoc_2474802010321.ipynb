{
  "nbformat": 4,
  "nbformat_minor": 0,
  "metadata": {
    "colab": {
      "provenance": []
    },
    "kernelspec": {
      "name": "python3",
      "display_name": "Python 3"
    },
    "language_info": {
      "name": "python"
    }
  },
  "cells": [
    {
      "cell_type": "code",
      "execution_count": 1,
      "metadata": {
        "colab": {
          "base_uri": "https://localhost:8080/"
        },
        "id": "v17CC7z5myCK",
        "outputId": "8dd6bf89-43ea-419c-9b54-7db59b0d2c1b"
      },
      "outputs": [
        {
          "output_type": "stream",
          "name": "stdout",
          "text": [
            "Tong A + B: [3 3 1 5]\n",
            "Tich 3A - 2B = [  4 -11  13 -10]\n"
          ]
        }
      ],
      "source": [
        "#Câu 1\n",
        "#câu a\n",
        "import numpy as np\n",
        "A = np.array([2,-1,3,0])\n",
        "B = np.array([1,4,-2,5])\n",
        "C = np.array([[1,2,-1],\n",
        "              [0,3,4],\n",
        "              [2,-1,0]])\n",
        "tong = A + B\n",
        "tich = 3 * A - 2 * B\n",
        "print(\"Tong A + B:\", tong)\n",
        "print(\"Tich 3A - 2B =\", tich)"
      ]
    },
    {
      "cell_type": "code",
      "source": [
        "#câu b\n",
        "import numpy as np\n",
        "tich_vo_huong = np.dot(A, B)\n",
        "do_dai_A = np.linalg.norm(A)\n",
        "do_dai_B = np.linalg.norm(B)\n",
        "cos_goc = tich_vo_huong / (do_dai_A * do_dai_B)\n",
        "goc_do = np.degrees(np.arccos(cos_goc))\n",
        "print(\"Tích vô hướng A * B:\", tich_vo_huong)\n",
        "print(\"Góc giữa 2 vector A và B: \", round(goc_do))"
      ],
      "metadata": {
        "colab": {
          "base_uri": "https://localhost:8080/"
        },
        "id": "RARP0LUXo-2s",
        "outputId": "b597c91c-8bd5-40c0-8eff-f50f12059747"
      },
      "execution_count": 4,
      "outputs": [
        {
          "output_type": "stream",
          "name": "stdout",
          "text": [
            "Tích vô hướng A * B: -8\n",
            "Góc giữa 2 vector A và B:  108\n"
          ]
        }
      ]
    },
    {
      "cell_type": "code",
      "source": [
        "#câu c\n",
        "import numpy as np\n",
        "C = np.array([[1, 2, -1],\n",
        "              [0, 3, 4],\n",
        "              [2, -1, 0]])\n",
        "CTC = np.dot(C.T,C)\n",
        "print(\"Ma trận C^TxC = \", CTC)"
      ],
      "metadata": {
        "colab": {
          "base_uri": "https://localhost:8080/"
        },
        "id": "RaLWGkobq10S",
        "outputId": "daa64b2f-646e-44f5-cf8f-25948e1873d6"
      },
      "execution_count": 5,
      "outputs": [
        {
          "output_type": "stream",
          "name": "stdout",
          "text": [
            "Ma trận C^TxC =  [[ 5  0 -1]\n",
            " [ 0 14 10]\n",
            " [-1 10 17]]\n"
          ]
        }
      ]
    },
    {
      "cell_type": "code",
      "source": [
        "#Câu 2\n",
        "import numpy as np\n",
        "M = np.array([[1, 2, 3, 0],\n",
        "              [4, 5, 6, 1],\n",
        "              [7, 8, 9, 2],\n",
        "              [0, 1, 1, 0]])\n",
        "N = np.array([[0, 1, 2, 3],\n",
        "              [4, 5, 6, 7],\n",
        "              [8, 9, 10, 11],\n",
        "              [12, 13, 14, 15]])\n",
        "#câu a\n",
        "tich_ma_tran = np.dot(M, N)\n",
        "print(\"Tích ma trận MxN: \", tich_ma_tran)"
      ],
      "metadata": {
        "colab": {
          "base_uri": "https://localhost:8080/"
        },
        "id": "UrQWeh9dswpg",
        "outputId": "fb865acb-9949-4888-ac84-45a9a149f803"
      },
      "execution_count": 6,
      "outputs": [
        {
          "output_type": "stream",
          "name": "stdout",
          "text": [
            "Tích ma trận MxN:  [[ 32  38  44  50]\n",
            " [ 80  96 112 128]\n",
            " [128 154 180 206]\n",
            " [ 12  14  16  18]]\n"
          ]
        }
      ]
    },
    {
      "cell_type": "code",
      "source": [
        "#câu b\n",
        "import numpy as np\n",
        "M = np.array([[1, 2, 3, 0],\n",
        "              [4, 5, 6, 1],\n",
        "              [7, 8, 9, 2],\n",
        "              [0, 1, 1, 0]])\n",
        "dinh_thuc_M = np.linalg.det(M)\n",
        "print(\"Định thức ma trận M là: \", dinh_thuc_M)"
      ],
      "metadata": {
        "colab": {
          "base_uri": "https://localhost:8080/"
        },
        "id": "O_vSuN-ctpu_",
        "outputId": "e188b7db-625a-43be-ca21-5ee788f7e701"
      },
      "execution_count": 7,
      "outputs": [
        {
          "output_type": "stream",
          "name": "stdout",
          "text": [
            "Định thức ma trận M là:  6.66133814775094e-16\n"
          ]
        }
      ]
    },
    {
      "cell_type": "code",
      "source": [
        "#câu c\n",
        "import numpy as np\n",
        "N = np.array([[0, 1, 2, 3],\n",
        "              [4, 5, 6, 7],\n",
        "              [8, 9, 10, 11],\n",
        "              [12, 13, 14, 15]])\n",
        "hang_N =np.linalg.matrix_rank(N)\n",
        "print(\"Hạng của ma trận N là: \", hang_N)"
      ],
      "metadata": {
        "colab": {
          "base_uri": "https://localhost:8080/"
        },
        "id": "zRQ8ednqt3y-",
        "outputId": "311ef385-731c-4952-ebdd-4b2acc0ab58a"
      },
      "execution_count": 9,
      "outputs": [
        {
          "output_type": "stream",
          "name": "stdout",
          "text": [
            "Hạng của ma trận N là:  2\n"
          ]
        }
      ]
    },
    {
      "cell_type": "code",
      "source": [
        "#Câu 3\n",
        "import numpy as np\n",
        "# Khai báo ma trận P và vector hệ số tự do\n",
        "P = np.array([[2, 1, 0, 1],\n",
        "              [0, 3, 1, -1],\n",
        "              [1, 0, 4, 2],\n",
        "              [0, 1, 0, 3]])\n",
        "b = np.array([4, 7, 9, 5])\n",
        "#câu a: Tìm ma trận nghịch đảo của P\n",
        "try:\n",
        "  P_nghichdao = np.linalg.inv(P)\n",
        "  print(P_nghichdao)\n",
        "except np.linalg.LinAlgError:\n",
        "  print(\"a) Ma trận P không khả nghịch.\")\n",
        "#câu b: Giải hệ phương trình P * x = b\n",
        "if 'P_nghichdao' in locals():\n",
        "  x = P_nghichdao @ b\n",
        "  print(x)\n",
        "#câu c: Kiểm tra lại nghiệm\n",
        "if 'x' in locals():\n",
        "  check = P @ x\n",
        "  print(check)\n",
        "  print(b)\n",
        "  print(np.allclose(check, b))"
      ],
      "metadata": {
        "colab": {
          "base_uri": "https://localhost:8080/"
        },
        "id": "qXSoZWTtv3Rq",
        "outputId": "818283bf-3e58-4cdd-be96-e427faab2b83"
      },
      "execution_count": 10,
      "outputs": [
        {
          "output_type": "stream",
          "name": "stdout",
          "text": [
            "[[ 0.48837209 -0.09302326  0.02325581 -0.20930233]\n",
            " [ 0.03488372  0.27906977 -0.06976744  0.12790698]\n",
            " [-0.11627907  0.06976744  0.23255814 -0.09302326]\n",
            " [-0.01162791 -0.09302326  0.02325581  0.29069767]]\n",
            "[0.46511628 2.10465116 1.65116279 0.96511628]\n",
            "[4. 7. 9. 5.]\n",
            "[4 7 9 5]\n",
            "True\n"
          ]
        }
      ]
    },
    {
      "cell_type": "code",
      "source": [
        "#Câu 4\n",
        "#Khai báo ma trận Q\n",
        "Q = np.array([[4, -1, 0],\n",
        "              [1, 3, -2],\n",
        "              [0, 1, 2]])\n",
        "#câu a: Tìm giá trị riêng\n",
        "eigenvalues, eigenvectors = np.linalg.eig(Q)\n",
        "print(eigenvalues)\n",
        "#câu b: Vector riêng tương ứng\n",
        "print(eigenvectors)\n",
        "\n",
        "# c) Chuẩn hóa vector riêng (độ dài = 1)\n",
        "normed_vectors = eigenvectors / np.linalg.norm(eigenvectors)\n",
        "print(normed_vectors)"
      ],
      "metadata": {
        "colab": {
          "base_uri": "https://localhost:8080/"
        },
        "id": "hh_rZG2axvUa",
        "outputId": "ecb648a5-a7a5-4145-c184-2a194b04ca92"
      },
      "execution_count": 11,
      "outputs": [
        {
          "output_type": "stream",
          "name": "stdout",
          "text": [
            "[3.45339765+0.j         2.77330117+1.46771151j 2.77330117-1.46771151j]\n",
            "[[ 0.83327121+0.j         -0.26206044-0.31354813j -0.26206044+0.31354813j]\n",
            " [ 0.455468  +0.j         -0.78166743+0.j         -0.78166743-0.j        ]\n",
            " [ 0.31338154+0.j         -0.21963176+0.41685708j -0.21963176-0.41685708j]]\n",
            "[[ 0.48108936+0.j         -0.15130066-0.1810271j  -0.15130066+0.1810271j ]\n",
            " [ 0.26296457+0.j         -0.4512959 +0.j         -0.4512959 +0.j        ]\n",
            " [ 0.18093092+0.j         -0.12680446+0.24067254j -0.12680446-0.24067254j]]\n"
          ]
        }
      ]
    },
    {
      "cell_type": "code",
      "source": [
        "#Câu 5\n",
        "#Bài 5\n",
        "# Ma trận hệ số R và vector hằng số b\n",
        "R = np.array([[1, -2,  3],\n",
        "              [2,  0,  1],\n",
        "              [-1, 1,  4]])\n",
        "b = np.array([10, 8, 7])\n",
        "\n",
        "# a) Giải hệ phương trình Rx = b\n",
        "x = np.linalg.solve(R, b)\n",
        "print(x)\n",
        "\n",
        "# b) Kiểm tra khả nghịch và nhân ngược lại\n",
        "try:\n",
        "    R_inv = np.linalg.inv(R)\n",
        "    print(R_inv)\n",
        "    # Kiểm tra lại nghiệm\n",
        "    check = R @ x\n",
        "    print(check)\n",
        "    print(b)\n",
        "except np.linalg.LinAlgError:\n",
        "    print(\"b) R không khả nghịch.\")\n",
        "\n",
        "# c) Chuẩn Frobenius của R\n",
        "fro_norm = np.linalg.norm(R, ord='fro')\n",
        "print(round(fro_norm, 3))"
      ],
      "metadata": {
        "colab": {
          "base_uri": "https://localhost:8080/"
        },
        "id": "oDKrlsEuyU_O",
        "outputId": "aa6dce10-6494-40b1-c2bf-d1adba2f4b77"
      },
      "execution_count": 12,
      "outputs": [
        {
          "output_type": "stream",
          "name": "stdout",
          "text": [
            "[2.7826087  0.04347826 2.43478261]\n",
            "[[-0.04347826  0.47826087 -0.08695652]\n",
            " [-0.39130435  0.30434783  0.2173913 ]\n",
            " [ 0.08695652  0.04347826  0.17391304]]\n",
            "[10.  8.  7.]\n",
            "[10  8  7]\n",
            "6.083\n"
          ]
        }
      ]
    }
  ]
}